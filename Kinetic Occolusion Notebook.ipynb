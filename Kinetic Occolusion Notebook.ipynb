{
 "cells": [
  {
   "cell_type": "code",
   "execution_count": 8,
   "metadata": {
    "collapsed": false
   },
   "outputs": [],
   "source": [
    "#Boundary Flow Constraint movie\n",
    "import numpy as np\n",
    "import sys\n",
    "import seaborn as sns\n",
    "import matplotlib.pyplot as plt\n",
    "from matplotlib.lines import Line2D\n",
    "import time\n",
    "import math\n",
    "import scipy.io as sio\n",
    "\n",
    "sns.set_style(\"whitegrid\", {'axes.grid':False})\n",
    "\n",
    "plt.clf()\n",
    "plt.close()"
   ]
  },
  {
   "cell_type": "code",
   "execution_count": 9,
   "metadata": {
    "collapsed": true
   },
   "outputs": [],
   "source": [
    "# Setting parameters\n",
    "\n",
    "foreground_speed = 2\n",
    "background_speed = 1\n",
    "plot_width = 20\n",
    "plot_height = 10\n",
    "num_lines = int(plot_height/2)\n",
    "dot_size = 6\n",
    "num_frames = 300\n",
    "motion_range = plot_width/15\n",
    "num_dots = 100\n",
    "line_thickness = 3\n",
    "line_color = \"black\"\n",
    "dot_color = \"black\"\n",
    "mat_file_name = \"images.mat\""
   ]
  },
  {
   "cell_type": "code",
   "execution_count": 11,
   "metadata": {
    "collapsed": false
   },
   "outputs": [
    {
     "name": "stdout",
     "output_type": "stream",
     "text": [
      "Using matplotlib backend: MacOSX\n",
      "Populating the interactive namespace from numpy and matplotlib\n"
     ]
    }
   ],
   "source": [
    "%pylab\n",
    "\n",
    "# Add in the null space in the middle\n",
    "plot_middle = plot_width/2\n",
    "nullBoundary = (plot_middle-2*motion_range, plot_middle+2*motion_range)\n",
    "\n",
    "#Generate random dots\n",
    "left_dots_x = nullBoundary[0]*np.random.rand(num_dots//2)\n",
    "left_dots_y = plot_height*np.random.rand(num_dots//2)\n",
    "right_dots_x = nullBoundary[0]*np.random.rand(num_dots//2) + nullBoundary[1]\n",
    "right_dots_y = plot_height*np.random.rand(num_dots//2)\n",
    "\n",
    "#for x, y in dots_x, dots_y:\n",
    "fig = plt.figure()\n",
    "ax = fig.add_subplot(111)\n",
    "ax.set_xlim(0, plot_width)\n",
    "ax.set_ylim(0, plot_height)\n",
    "\n",
    "#Main updating plot\n",
    "x_inc = 0.5\n",
    "left_motion = True\n",
    "\n",
    "#Calculate number of cycles the movie has\n",
    "num_cycles = int(x_inc*num_frames/(2*math.pi))\n",
    "\n",
    "for frame in range(num_frames):\n",
    "    x = x_inc*frame\n",
    "    cycle = int(x/(2*math.pi))\n",
    "    #Change coherence once half the number of cycles are completed\n",
    "    if cycle > num_cycles//2:\n",
    "        left_motion = False\n",
    "    plt.cla()\n",
    "    shift = math.sin(x)*motion_range\n",
    "    if left_motion:\n",
    "        lengthLine = shift + 0.5*plot_width\n",
    "    else:\n",
    "        lengthLine = 0.5*plot_width - shift\n",
    "        \n",
    "    #Plot all new horizontal lines for this frame\n",
    "    for i in range(num_lines):\n",
    "        update_left_line = Line2D([0, lengthLine], [2*i+1, 2*i+1], lw=line_thickness, c=line_color)\n",
    "        update_right_line = Line2D([lengthLine, plot_width], [2*i, 2*i], lw=line_thickness, c=line_color)\n",
    "        ax.add_line(update_left_line)\n",
    "        ax.add_line(update_right_line)\n",
    "\n",
    "    #Plot vertical line and dots\n",
    "    ax.add_line(Line2D([lengthLine, lengthLine], [0, plot_height], lw=line_thickness, c=line_color))\n",
    "    ax.scatter(left_dots_x+shift, left_dots_y, dot_size, c=dot_color)\n",
    "    ax.scatter(right_dots_x-shift, right_dots_y, dot_size, c=dot_color)\n",
    "    \n",
    "    plt.draw()\n",
    "    plt.savefig('temp/x_' + str(frame).zfill(5) + '.svg')\n",
    "    "
   ]
  },
  {
   "cell_type": "code",
   "execution_count": 5,
   "metadata": {
    "collapsed": false
   },
   "outputs": [
    {
     "data": {
      "text/plain": [
       "149.5"
      ]
     },
     "execution_count": 5,
     "metadata": {},
     "output_type": "execute_result"
    }
   ],
   "source": []
  },
  {
   "cell_type": "code",
   "execution_count": null,
   "metadata": {
    "collapsed": true
   },
   "outputs": [],
   "source": []
  }
 ],
 "metadata": {
  "kernelspec": {
   "display_name": "Python [Root]",
   "language": "python",
   "name": "Python [Root]"
  },
  "language_info": {
   "codemirror_mode": {
    "name": "ipython",
    "version": 3
   },
   "file_extension": ".py",
   "mimetype": "text/x-python",
   "name": "python",
   "nbconvert_exporter": "python",
   "pygments_lexer": "ipython3",
   "version": "3.5.2"
  }
 },
 "nbformat": 4,
 "nbformat_minor": 0
}
