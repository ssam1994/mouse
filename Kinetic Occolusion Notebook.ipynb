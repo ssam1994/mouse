{
 "cells": [
  {
   "cell_type": "code",
   "execution_count": 13,
   "metadata": {
    "collapsed": false
   },
   "outputs": [],
   "source": [
    "#Boundary Flow Constraint movie\n",
    "%matplotlib inline\n",
    "import numpy as np\n",
    "import seaborn as sns\n",
    "import matplotlib.pyplot as plt\n",
    "from matplotlib.lines import Line2D\n",
    "import math\n",
    "import scipy.io as sio\n",
    "\n",
    "sns.set_style(\"whitegrid\", {'axes.grid':False})\n",
    "\n",
    "plt.clf()\n",
    "plt.close()"
   ]
  },
  {
   "cell_type": "code",
   "execution_count": 108,
   "metadata": {
    "collapsed": true
   },
   "outputs": [],
   "source": [
    "# Setting parameters\n",
    "\n",
    "foreground_speed = 2\n",
    "background_speed = 1\n",
    "plot_width = 20\n",
    "plot_height = 10\n",
    "num_lines = int(plot_height/2)\n",
    "dot_size = 6\n",
    "num_frames = 300\n",
    "motion_range = plot_width/15\n",
    "num_dots = 100\n",
    "line_thickness = 3\n",
    "line_color = \"black\"\n",
    "dot_color = \"black\"\n",
    "mat_file_name = \"images.mat\""
   ]
  },
  {
   "cell_type": "code",
   "execution_count": 106,
   "metadata": {
    "collapsed": false
   },
   "outputs": [],
   "source": [
    "def fig2rgb_array(fig, ax):\n",
    "    can = fig.canvas\n",
    "    can.draw()\n",
    "    background = can.copy_from_bbox(ax.bbox)\n",
    "    ncols = ax.bbox.width\n",
    "    nrows = ax.bbox.height \n",
    "    return np.fromstring(background.to_string_argb(), dtype=np.uint8).reshape(nrows, ncols, 4)"
   ]
  },
  {
   "cell_type": "code",
   "execution_count": 112,
   "metadata": {
    "collapsed": false
   },
   "outputs": [
    {
     "data": {
      "text/plain": [
       "<matplotlib.figure.Figure at 0x137b60b8>"
      ]
     },
     "metadata": {},
     "output_type": "display_data"
    }
   ],
   "source": [
    "# Add in the null space in the middle\n",
    "plot_middle = plot_width/2\n",
    "nullBoundary = (plot_middle-2*motion_range, plot_middle+2*motion_range)\n",
    "\n",
    "#Generate random dots\n",
    "left_dots_x = nullBoundary[0]*np.random.rand(num_dots//2)\n",
    "left_dots_y = plot_height*np.random.rand(num_dots//2)\n",
    "right_dots_x = nullBoundary[0]*np.random.rand(num_dots//2) + nullBoundary[1]\n",
    "right_dots_y = plot_height*np.random.rand(num_dots//2)\n",
    "\n",
    "#for x, y in dots_x, dots_y:\n",
    "fig = plt.figure()"
   ]
  },
  {
   "cell_type": "code",
   "execution_count": 113,
   "metadata": {
    "collapsed": false
   },
   "outputs": [
    {
     "name": "stderr",
     "output_type": "stream",
     "text": [
      "C:\\Users\\KOFIKO5\\Anaconda2\\lib\\site-packages\\ipykernel\\__main__.py:7: VisibleDeprecationWarning: using a non-integer number instead of an integer will result in an error in the future\n"
     ]
    }
   ],
   "source": [
    "#Main updating plot\n",
    "x_inc = 0.5\n",
    "left_motion = True\n",
    "\n",
    "#Calculate number of cycles the movie has\n",
    "num_cycles = int(x_inc*num_frames/(2*math.pi))\n",
    "\n",
    "matDict = {}\n",
    "matrix = []\n",
    "for frame in range(num_frames):\n",
    "    x = x_inc*frame\n",
    "    cycle = int(x/(2*math.pi))\n",
    "    #Change coherence once half the number of cycles are completed\n",
    "    if cycle > num_cycles//2:\n",
    "        left_motion = False\n",
    "    shift = math.sin(x)*motion_range\n",
    "    if left_motion:\n",
    "        lengthLine = shift + 0.5*plot_width\n",
    "    else:\n",
    "        lengthLine = 0.5*plot_width - shift\n",
    "        \n",
    "    ax = fig.add_subplot(111)\n",
    "    \n",
    "    #Plot all new horizontal lines for this frame\n",
    "    for i in range(num_lines):\n",
    "        update_left_line = Line2D([0, lengthLine], [2*i+1, 2*i+1], lw=line_thickness, c=line_color)\n",
    "        update_right_line = Line2D([lengthLine, plot_width], [2*i, 2*i], lw=line_thickness, c=line_color)\n",
    "        ax.add_line(update_left_line)\n",
    "        ax.add_line(update_right_line)\n",
    "\n",
    "    #Plot vertical line and dots\n",
    "    ax.set_axis_off()\n",
    "    ax.add_line(Line2D([lengthLine, lengthLine], [0, plot_height], lw=line_thickness, c=line_color))\n",
    "    ax.scatter(left_dots_x+shift, left_dots_y, dot_size, c=dot_color)\n",
    "    ax.scatter(right_dots_x-shift, right_dots_y, dot_size, c=dot_color)\n",
    "    ax.set_xlim(0, plot_width)\n",
    "    ax.set_ylim(0, plot_height)\n",
    "    plt.show()\n",
    "    image = fig2rgb_array(fig, ax)[:,:,:3]\n",
    "    matrix.append(image)\n",
    "    matDict['image_%s' %str(frame).zfill(4)] = image\n",
    "    fig.clf()\n",
    "\n",
    "sio.savemat(mat_file_name, matDict)\n",
    "#plt.imshow(matrix[0])\n"
   ]
  },
  {
   "cell_type": "code",
   "execution_count": null,
   "metadata": {
    "collapsed": true
   },
   "outputs": [],
   "source": []
  }
 ],
 "metadata": {
  "anaconda-cloud": {},
  "kernelspec": {
   "display_name": "Python [conda root]",
   "language": "python",
   "name": "conda-root-py"
  },
  "language_info": {
   "codemirror_mode": {
    "name": "ipython",
    "version": 2
   },
   "file_extension": ".py",
   "mimetype": "text/x-python",
   "name": "python",
   "nbconvert_exporter": "python",
   "pygments_lexer": "ipython2",
   "version": "2.7.12"
  }
 },
 "nbformat": 4,
 "nbformat_minor": 0
}
