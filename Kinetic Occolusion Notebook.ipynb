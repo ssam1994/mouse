{
 "cells": [
  {
   "cell_type": "code",
   "execution_count": 8,
   "metadata": {
    "collapsed": false
   },
   "outputs": [],
   "source": [
    "#Boundary Flow Constraint movie\n",
    "import numpy as np\n",
    "import sys\n",
    "import seaborn as sns\n",
    "import matplotlib.pyplot as plt\n",
    "from matplotlib.lines import Line2D\n",
    "import time\n",
    "import math\n",
    "\n",
    "sns.set_style(\"whitegrid\", {'axes.grid':False})\n",
    "\n",
    "plt.clf()\n",
    "plt.close()"
   ]
  },
  {
   "cell_type": "code",
   "execution_count": 15,
   "metadata": {
    "collapsed": true
   },
   "outputs": [],
   "source": [
    "# Setting parameters\n",
    "\n",
    "foreground_speed = 2\n",
    "background_speed = 1\n",
    "plot_width = 20\n",
    "plot_height = 10\n",
    "num_lines = int(plot_height/2)\n",
    "dot_size = 5\n",
    "vid_duration = 30\n",
    "motion_range = plot_width/6\n",
    "update_pause = 0.05\n",
    "num_dots = 100"
   ]
  },
  {
   "cell_type": "code",
   "execution_count": 16,
   "metadata": {
    "collapsed": false
   },
   "outputs": [
    {
     "name": "stdout",
     "output_type": "stream",
     "text": [
      "Using matplotlib backend: Qt4Agg\n",
      "Populating the interactive namespace from numpy and matplotlib\n"
     ]
    }
   ],
   "source": [
    "%pylab\n",
    "\n",
    "#Generate random dots\n",
    "left_dots_x = plot_width*0.5*np.random.rand(num_dots//2)\n",
    "left_dots_y = plot_height*np.random.rand(num_dots//2)\n",
    "right_dots_x = plot_width*0.5*np.random.rand(num_dots//2) + plot_width*0.5\n",
    "right_dots_y = plot_height*np.random.rand(num_dots//2)\n",
    "plt.scatter(left_dots_x, left_dots_y, s=dot_size)\n",
    "plt.scatter(right_dots_x, right_dots_y, s=dot_size)\n",
    "\n",
    "left_dots = []\n",
    "right_dots = []\n",
    "#for x, y in dots_x, dots_y:\n",
    "\n",
    "fig = plt.figure()\n",
    "ax = fig.add_subplot(111)\n",
    "ax.set_xlim(0, plot_width)\n",
    "ax.set_ylim(0, plot_height)\n",
    "\n",
    "#Main updating plot\n",
    "plt.ion()\n",
    "x = 0\n",
    "left_motion = True\n",
    "t_stop = time.time() + vid_duration\n",
    "t_half = time.time() + 0.5*vid_duration\n",
    "while time.time() < t_stop:\n",
    "    if time.time() > t_half:\n",
    "        left_motion = False\n",
    "    plt.cla()\n",
    "    coherent_shift = math.sin(x)*motion_range\n",
    "    noncoherent_shift = 0\n",
    "    new_width = math.sin(x)*motion_range + 0.5*plot_width\n",
    "    x_data = []\n",
    "    y_data = []\n",
    "    for i in range(num_lines):\n",
    "        update_left_line = Line2D([0, new_width], [2*i+1, 2*i+1])\n",
    "        update_right_line = Line2D([new_width, plot_width], [2*i+0.5, 2*i+0.5])\n",
    "        ax.add_line(update_left_line)\n",
    "        ax.add_line(update_right_line)\n",
    "\n",
    "    ax.add_line(Line2D([new_width, new_width], [0, plot_height]))\n",
    "    if left_motion:\n",
    "        ax.scatter(left_dots_x+coherent_shift, left_dots_y, dot_size)\n",
    "        ax.scatter(right_dots_x+noncoherent_shift, right_dots_y, dot_size)\n",
    "    else:\n",
    "        ax.scatter(left_dots_x+noncoherent_shift, left_dots_y, dot_size)\n",
    "        ax.scatter(right_dots_x+coherent_shift, right_dots_y, dot_size)\n",
    "    plt.draw()\n",
    "    plt.pause(update_pause)\n",
    "    x+=.1"
   ]
  }
 ],
 "metadata": {
  "kernelspec": {
   "display_name": "Python 2",
   "language": "python",
   "name": "python2"
  },
  "language_info": {
   "codemirror_mode": {
    "name": "ipython",
    "version": 2
   },
   "file_extension": ".py",
   "mimetype": "text/x-python",
   "name": "python",
   "nbconvert_exporter": "python",
   "pygments_lexer": "ipython2",
   "version": "2.7.12"
  }
 },
 "nbformat": 4,
 "nbformat_minor": 0
}
