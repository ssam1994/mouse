{
 "cells": [
  {
   "cell_type": "code",
   "execution_count": 2,
   "metadata": {
    "collapsed": false
   },
   "outputs": [],
   "source": [
    "#Boundary Flow Constraint movie\n",
    "import numpy as np\n",
    "import sys\n",
    "import seaborn as sns\n",
    "import matplotlib.pyplot as plt\n",
    "from matplotlib.lines import Line2D\n",
    "import time\n",
    "import math\n",
    "\n",
    "sns.set_style(\"whitegrid\", {'axes.grid':False})\n",
    "\n",
    "plt.clf()\n",
    "plt.close()"
   ]
  },
  {
   "cell_type": "code",
   "execution_count": 17,
   "metadata": {
    "collapsed": true
   },
   "outputs": [],
   "source": [
    "# Setting parameters\n",
    "\n",
    "foreground_speed = 2\n",
    "background_speed = 1\n",
    "plot_width = 20\n",
    "plot_height = 10\n",
    "num_lines = int(plot_height/2)\n",
    "dot_size = 5\n",
    "vid_duration = 10\n",
    "motion_range = plot_width/15\n",
    "update_pause = 0.05\n",
    "num_dots = 100"
   ]
  },
  {
   "cell_type": "code",
   "execution_count": null,
   "metadata": {
    "collapsed": false
   },
   "outputs": [],
   "source": []
  },
  {
   "cell_type": "code",
   "execution_count": 20,
   "metadata": {
    "collapsed": false
   },
   "outputs": [
    {
     "name": "stdout",
     "output_type": "stream",
     "text": [
      "Using matplotlib backend: Qt4Agg\n",
      "Populating the interactive namespace from numpy and matplotlib\n"
     ]
    }
   ],
   "source": [
    "%pylab\n",
    "\n",
    "# Add in the null space in the middle\n",
    "nullBoundary = [0.3, 0.7]\n",
    "\n",
    "#Generate random dots\n",
    "left_dots_x = plot_width*nullBoundary[0]*np.random.rand(num_dots//2)\n",
    "left_dots_y = plot_height*np.random.rand(num_dots//2)\n",
    "right_dots_x = plot_width*nullBoundary[0]*np.random.rand(num_dots//2) + plot_width*nullBoundary[1]\n",
    "right_dots_y = plot_height*np.random.rand(num_dots//2)\n",
    "\n",
    "plt.scatter(left_dots_x, left_dots_y, s=dot_size)\n",
    "plt.scatter(right_dots_x, right_dots_y, s=dot_size)\n",
    "\n",
    "#for x, y in dots_x, dots_y:\n",
    "fig = plt.figure()\n",
    "ax = fig.add_subplot(111)\n",
    "ax.set_xlim(0, plot_width)\n",
    "ax.set_ylim(0, plot_height)\n",
    "\n",
    "#Main updating plot\n",
    "plt.ion()\n",
    "x = 0\n",
    "left_motion = True\n",
    "t_stop = time.time() + vid_duration\n",
    "t_half = time.time() + 0.5*vid_duration\n",
    "while time.time() < t_stop:\n",
    "    if time.time() > t_half:\n",
    "        left_motion = False\n",
    "    plt.cla()\n",
    "    coherent_shift = math.sin(x)*motion_range\n",
    "    if left_motion:\n",
    "        lengthLine = math.sin(x)*motion_range + 0.5*plot_width\n",
    "    else:\n",
    "        lengthLine = -math.sin(x)*motion_range + 0.5*plot_width\n",
    "    \n",
    "    x_data = []; y_data = []\n",
    "    for i in range(num_lines):\n",
    "        update_left_line = Line2D([0, lengthLine], [2*i+1, 2*i+1])\n",
    "        update_right_line = Line2D([lengthLine, plot_width], [2*i+0.5, 2*i+0.5])\n",
    "        ax.add_line(update_left_line)\n",
    "        ax.add_line(update_right_line)\n",
    "\n",
    "    #ax.add_line(Line2D([new_width, new_width], [0, plot_height]))\n",
    "    ax.scatter(left_dots_x+coherent_shift, left_dots_y, dot_size)\n",
    "    ax.scatter(right_dots_x-coherent_shift, right_dots_y, dot_size)\n",
    "    \n",
    "    plt.xlim([-10, 30])\n",
    "    plt.draw()\n",
    "    plt.pause(update_pause)\n",
    "    x+=.5"
   ]
  },
  {
   "cell_type": "code",
   "execution_count": 19,
   "metadata": {
    "collapsed": false
   },
   "outputs": [
    {
     "data": {
      "text/plain": [
       "array([ 8.15415383,  0.43447415,  5.68174325,  5.47712373,  6.20732634,\n",
       "        1.30691951,  1.62278029,  7.83546335,  6.7956437 ,  6.14276795,\n",
       "        7.4691551 ,  3.45047224,  0.60934591,  3.99712197,  5.99339948,\n",
       "        3.29761045,  0.13179653,  7.79538712,  2.49760672,  1.09953995,\n",
       "        4.75491013,  0.71993766,  0.18688725,  3.07246557,  5.39110515,\n",
       "        8.38338237,  4.64431049,  9.76523527,  0.37276601,  9.25106679,\n",
       "        4.97368393,  4.87322552,  2.24998668,  3.18761878,  3.62430452,\n",
       "        2.61633026,  6.43608956,  4.23538249,  3.53146508,  6.10258435,\n",
       "        3.82736354,  7.20717971,  9.22149569,  3.17767913,  0.11823349,\n",
       "        4.55231157,  7.59999442,  1.83457909,  7.50537732,  2.83335152])"
      ]
     },
     "execution_count": 19,
     "metadata": {},
     "output_type": "execute_result"
    }
   ],
   "source": [
    "left_dots_x"
   ]
  }
 ],
 "metadata": {
  "kernelspec": {
   "display_name": "Python 2",
   "language": "python",
   "name": "python2"
  },
  "language_info": {
   "codemirror_mode": {
    "name": "ipython",
    "version": 2
   },
   "file_extension": ".py",
   "mimetype": "text/x-python",
   "name": "python",
   "nbconvert_exporter": "python",
   "pygments_lexer": "ipython2",
   "version": "2.7.12"
  }
 },
 "nbformat": 4,
 "nbformat_minor": 0
}
