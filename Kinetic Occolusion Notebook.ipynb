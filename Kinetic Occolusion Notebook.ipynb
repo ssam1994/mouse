{
 "cells": [
  {
   "cell_type": "code",
   "execution_count": 1,
   "metadata": {
    "collapsed": false
   },
   "outputs": [
    {
     "name": "stdout",
     "output_type": "stream",
     "text": [
      "Using matplotlib backend: Qt5Agg\n",
      "Populating the interactive namespace from numpy and matplotlib\n"
     ]
    }
   ],
   "source": [
    "#Boundary Flow Constraint movie\n",
    "import numpy as np\n",
    "import sys\n",
    "import seaborn as sns\n",
    "import matplotlib.pyplot as plt\n",
    "from matplotlib.lines import Line2D\n",
    "import time\n",
    "import math\n",
    "import scipy.io as sio\n",
    "\n",
    "sns.set_style(\"whitegrid\", {'axes.grid':False})\n",
    "\n",
    "plt.clf()\n",
    "plt.close()\n",
    "%pylab"
   ]
  },
  {
   "cell_type": "code",
   "execution_count": 2,
   "metadata": {
    "collapsed": true
   },
   "outputs": [],
   "source": [
    "# Setting parameters\n",
    "\n",
    "foreground_speed = 2\n",
    "background_speed = 1\n",
    "plot_width = 20\n",
    "plot_height = 10\n",
    "num_lines = int(plot_height/2)\n",
    "dot_size = 6\n",
    "num_frames = 3\n",
    "motion_range = plot_width/15\n",
    "num_dots = 100\n",
    "line_thickness = 3\n",
    "line_color = \"black\"\n",
    "dot_color = \"black\"\n",
    "mat_file_name = \"images.mat\""
   ]
  },
  {
   "cell_type": "code",
   "execution_count": 3,
   "metadata": {
    "collapsed": true
   },
   "outputs": [],
   "source": [
    "def fig2rgb_array(fig, ax):\n",
    "    can = fig.canvas\n",
    "    can.draw()\n",
    "    can.blit(ax.bbox)\n",
    "    buf = can.tostring_rgb()\n",
    "    ncols, nrows = can.get_width_height()\n",
    "    return np.fromstring(buf, dtype=np.uint8).reshape(nrows, ncols, 3)"
   ]
  },
  {
   "cell_type": "code",
   "execution_count": 30,
   "metadata": {
    "collapsed": false
   },
   "outputs": [],
   "source": [
    "# Add in the null space in the middle\n",
    "plot_middle = plot_width/2\n",
    "nullBoundary = (plot_middle-2*motion_range, plot_middle+2*motion_range)\n",
    "\n",
    "#Generate random dots\n",
    "left_dots_x = nullBoundary[0]*np.random.rand(num_dots//2)\n",
    "left_dots_y = plot_height*np.random.rand(num_dots//2)\n",
    "right_dots_x = nullBoundary[0]*np.random.rand(num_dots//2) + nullBoundary[1]\n",
    "right_dots_y = plot_height*np.random.rand(num_dots//2)\n",
    "\n",
    "#for x, y in dots_x, dots_y:\n",
    "fig = plt.figure()\n",
    "\n",
    "#Main updating plot\n",
    "x_inc = 0.5\n",
    "left_motion = True\n",
    "\n",
    "#Calculate number of cycles the movie has\n",
    "num_cycles = int(x_inc*num_frames/(2*math.pi))"
   ]
  },
  {
   "cell_type": "code",
   "execution_count": 36,
   "metadata": {
    "collapsed": false
   },
   "outputs": [],
   "source": [
    "\n",
    "matrix = []\n",
    "for frame in range(num_frames):\n",
    "    x = x_inc*frame\n",
    "    cycle = int(x/(2*math.pi))\n",
    "    #Change coherence once half the number of cycles are completed\n",
    "    if cycle > num_cycles//2:\n",
    "        left_motion = False\n",
    "    shift = math.sin(x)*motion_range\n",
    "    if left_motion:\n",
    "        lengthLine = shift + 0.5*plot_width\n",
    "    else:\n",
    "        lengthLine = 0.5*plot_width - shift\n",
    "        \n",
    "    ax = fig.add_subplot(111)\n",
    "    ax.set_xlim(0, plot_width)\n",
    "    ax.set_ylim(0, plot_height)\n",
    "    \n",
    "    #Plot all new horizontal lines for this frame\n",
    "    for i in range(num_lines):\n",
    "        update_left_line = Line2D([0, lengthLine], [2*i+1, 2*i+1], lw=line_thickness, c=line_color)\n",
    "        update_right_line = Line2D([lengthLine, plot_width], [2*i, 2*i], lw=line_thickness, c=line_color)\n",
    "        ax.add_line(update_left_line)\n",
    "        ax.add_line(update_right_line)\n",
    "\n",
    "    #Plot vertical line and dots\n",
    "    ax.add_line(Line2D([lengthLine, lengthLine], [0, plot_height], lw=line_thickness, c=line_color))\n",
    "    ax.scatter(left_dots_x+shift, left_dots_y, dot_size, c=dot_color)\n",
    "    ax.scatter(right_dots_x-shift, right_dots_y, dot_size, c=dot_color)\n",
    "    ax.set_xticklabels([])\n",
    "    ax.set_yticklabels([])\n",
    "    fig.tight_layout()\n",
    "    matrix.append(fig2rgb_array(fig, ax))\n",
    "    fig.clf()\n",
    "\n",
    "sio.savemat(mat_file_name, matrix)    \n"
   ]
  }
 ],
 "metadata": {
  "anaconda-cloud": {},
  "kernelspec": {
   "display_name": "Python [conda root]",
   "language": "python",
   "name": "conda-root-py"
  },
  "language_info": {
   "codemirror_mode": {
    "name": "ipython",
    "version": 2
   },
   "file_extension": ".py",
   "mimetype": "text/x-python",
   "name": "python",
   "nbconvert_exporter": "python",
   "pygments_lexer": "ipython2",
   "version": "2.7.12"
  }
 },
 "nbformat": 4,
 "nbformat_minor": 0
}
